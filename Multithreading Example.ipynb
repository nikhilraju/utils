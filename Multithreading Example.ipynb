{
 "cells": [
  {
   "cell_type": "code",
   "execution_count": null,
   "metadata": {},
   "outputs": [],
   "source": [
    "import logging\n",
    "import threading\n",
    "from queue import Queue\n",
    "import time\n",
    "import json\n",
    "import pandas as pd\n",
    "from collections import Counter\n",
    "from typing import List"
   ]
  },
  {
   "cell_type": "code",
   "execution_count": null,
   "metadata": {},
   "outputs": [],
   "source": [
    "logger = logging.getLogger('multithreading-example')\n",
    "logger.setLevel(logging.INFO)\n",
    "sh = logging.StreamHandler()\n",
    "sh.setFormatter(logging.Formatter( '%(asctime)s - %(name)s - %(levelname)s - %(message)s'))\n",
    "logger.addHandler(sh)"
   ]
  },
  {
   "cell_type": "code",
   "execution_count": null,
   "metadata": {},
   "outputs": [],
   "source": [
    "q = Queue()\n",
    "input_list_to_process = list(range(100))\n",
    "for input_id in input_list_to_process:\n",
    "    q.put(input_id)"
   ]
  },
  {
   "cell_type": "code",
   "execution_count": null,
   "metadata": {},
   "outputs": [],
   "source": [
    "%%time\n",
    "# The actual work done for a task = processing one list in memory\n",
    "import gc\n",
    "def do_work(input_id):\n",
    "    try:\n",
    "        foo = 1\n",
    "        logger.info('Did step 1 for %s',input_id)\n",
    "        bar = 2\n",
    "        logger.info('Did step 2 for %s',input_id)\n",
    "        res = foo + bar + input_id\n",
    "        logger.info('FINISHED %s',input_id)\n",
    "        logger.info('-'*50)\n",
    "        return res\n",
    "    except:\n",
    "        print(f'An exception occured while processing {input_id}')\n",
    "\n",
    "# Each thread indefinitely keeps reading from the queue and doing a task\n",
    "def threader():\n",
    "    while True:#not q.empty():\n",
    "        # get the job from the front of the queue\n",
    "        do_work(q.get())\n",
    "        q.task_done()\n",
    "    \n",
    "# To control the number of active threads of tasks\n",
    "num_threads = 4\n",
    "for i in range(num_threads):\n",
    "    thread = threading.Thread(target = threader )\n",
    "    # this ensures the thread will die when the main thread dies\n",
    "    # can set t.daemon to False if you want it to keep running\n",
    "    thread.daemon = True\n",
    "    thread.start()\n",
    "\n",
    "# blocks the main thread until the workers have processed everything that's in the queue\n",
    "q.join()\n",
    "print('All work completed')"
   ]
  },
  {
   "cell_type": "code",
   "execution_count": null,
   "metadata": {},
   "outputs": [],
   "source": []
  },
  {
   "cell_type": "code",
   "execution_count": null,
   "metadata": {},
   "outputs": [],
   "source": []
  }
 ],
 "metadata": {
  "kernelspec": {
   "display_name": "Python 3",
   "language": "python",
   "name": "python3"
  },
  "language_info": {
   "codemirror_mode": {
    "name": "ipython",
    "version": 3
   },
   "file_extension": ".py",
   "mimetype": "text/x-python",
   "name": "python",
   "nbconvert_exporter": "python",
   "pygments_lexer": "ipython3",
   "version": "3.8.5"
  }
 },
 "nbformat": 4,
 "nbformat_minor": 4
}
